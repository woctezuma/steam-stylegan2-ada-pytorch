{
  "nbformat": 4,
  "nbformat_minor": 0,
  "metadata": {
    "colab": {
      "name": "training.ipynb",
      "provenance": [],
      "collapsed_sections": [
        "sOAy1OXOUjCe",
        "WlNLZOGTpll-",
        "g0oZRRs2KO5A",
        "Aj-3t7dM98dj",
        "ruo5KFL4yw0j",
        "t80pr43tSET6"
      ],
      "machine_shape": "hm"
    },
    "kernelspec": {
      "name": "python3",
      "display_name": "Python 3"
    },
    "accelerator": "GPU"
  },
  "cells": [
    {
      "cell_type": "markdown",
      "metadata": {
        "id": "8UDVO2FGKIQw"
      },
      "source": [
        "# StyleGAN2-ADA (PyTorch): training a model from scratch\n",
        "\n",
        "Reference: https://github.com/woctezuma/steam-stylegan2-ada-pytorch"
      ]
    },
    {
      "cell_type": "markdown",
      "metadata": {
        "id": "sOAy1OXOUjCe"
      },
      "source": [
        "## Set-up the Colab machine\r\n",
        "\r\n",
        "**Tip**: to ensure that your Colab session stays connected for a long duration, follow: https://stackoverflow.com/a/58275370/"
      ]
    },
    {
      "cell_type": "markdown",
      "metadata": {
        "id": "yVhbmoa_gbyQ"
      },
      "source": [
        "### Check the GPU"
      ]
    },
    {
      "cell_type": "code",
      "metadata": {
        "id": "jZN1hu6CgbYU"
      },
      "source": [
        "!nvidia-smi"
      ],
      "execution_count": null,
      "outputs": []
    },
    {
      "cell_type": "markdown",
      "metadata": {
        "id": "WlNLZOGTpll-"
      },
      "source": [
        "### Install requirement\r\n",
        "\r\n",
        "Reference: https://github.com/NVlabs/stylegan2-ada-pytorch/issues/2"
      ]
    },
    {
      "cell_type": "code",
      "metadata": {
        "id": "g-yNo3MWpsV8"
      },
      "source": [
        "%pip install ninja"
      ],
      "execution_count": null,
      "outputs": []
    },
    {
      "cell_type": "markdown",
      "metadata": {
        "id": "g0oZRRs2KO5A"
      },
      "source": [
        "### Install my fork of StyleGAN2-ADA (PyTorch)\n",
        "\n",
        "Reference: https://github.com/woctezuma/stylegan2-ada-pytorch/tree/google-colab\n",
        "\n",
        "Switch to the branch `google-colab`."
      ]
    },
    {
      "cell_type": "code",
      "metadata": {
        "id": "sKYZ49zf41Sv"
      },
      "source": [
        "%cd /content/\n",
        "\n",
        "%rm -rf stylegan2-ada-pytorch/\n",
        "!git clone https://github.com/woctezuma/stylegan2-ada-pytorch.git\n",
        "\n",
        "%cd stylegan2-ada-pytorch/\n",
        "!git checkout google-colab\n",
        "\n",
        "%cd /content/"
      ],
      "execution_count": null,
      "outputs": []
    },
    {
      "cell_type": "markdown",
      "metadata": {
        "id": "Aj-3t7dM98dj"
      },
      "source": [
        "### Download image data\r\n",
        "\r\n",
        "Data consists of ~ 2500 Steam banners (256x256 resolution) in a 74 MB archive."
      ]
    },
    {
      "cell_type": "code",
      "metadata": {
        "id": "04SYpwjy8_5G"
      },
      "source": [
        "from pathlib import Path\n",
        "\n",
        "archive_name = 'steam-oneface-lr_with_retinaface.tar.gz'\n",
        "\n",
        "if not Path(archive_name).exists():\n",
        "  print('Downloading')\n",
        "  !gdown --id 1-0Nk7H6Cn3Nt60EdHG_NWSA8ohi2oBqr\n",
        "  !tar xf {archive_name}"
      ],
      "execution_count": null,
      "outputs": []
    },
    {
      "cell_type": "markdown",
      "metadata": {
        "id": "ruo5KFL4yw0j"
      },
      "source": [
        "### Prepare datasets\n",
        "\n",
        "Reference: https://github.com/NVlabs/stylegan2-ada-pytorch#preparing-datasets"
      ]
    },
    {
      "cell_type": "code",
      "metadata": {
        "id": "rKFaEYjzTa1g"
      },
      "source": [
        "custom_images = '/content/steam-oneface-lr/'\r\n",
        "custom_dataset = '/content/datasets/steam/'"
      ],
      "execution_count": null,
      "outputs": []
    },
    {
      "cell_type": "code",
      "metadata": {
        "id": "whUYxCDgK66P"
      },
      "source": [
        "!python stylegan2-ada-pytorch/dataset_tool.py \\\r\n",
        " --source {custom_images} \\\r\n",
        " --dest {custom_dataset}"
      ],
      "execution_count": null,
      "outputs": []
    },
    {
      "cell_type": "markdown",
      "metadata": {
        "id": "t80pr43tSET6"
      },
      "source": [
        "## Mount Google Drive"
      ]
    },
    {
      "cell_type": "code",
      "metadata": {
        "id": "c9q23GaSR_yM"
      },
      "source": [
        "%pip install Google-Colab-Transfer"
      ],
      "execution_count": null,
      "outputs": []
    },
    {
      "cell_type": "code",
      "metadata": {
        "id": "4UScS-nwSBDM"
      },
      "source": [
        "import colab_transfer\r\n",
        "\r\n",
        "colab_transfer.mount_google_drive()"
      ],
      "execution_count": null,
      "outputs": []
    },
    {
      "cell_type": "code",
      "metadata": {
        "id": "iUgpKxTqUxVd"
      },
      "source": [
        "output_folder = '/content/drive/MyDrive/training-runs'"
      ],
      "execution_count": null,
      "outputs": []
    },
    {
      "cell_type": "markdown",
      "metadata": {
        "id": "RWpIjP7hKzJZ"
      },
      "source": [
        "## Train new networks\r\n",
        "\r\n",
        "Reference: https://github.com/NVlabs/stylegan2-ada-pytorch#training-new-networks"
      ]
    },
    {
      "cell_type": "markdown",
      "metadata": {
        "id": "lUKiyWY22dzf"
      },
      "source": [
        "### Initial run (transfer learning)\r\n",
        "\r\n",
        "Start with transfer learning from a model trained on a **diverse** dataset, e.g. `lsundog256`.\r\n",
        "\r\n",
        "Caveat: the upstream model was trained with `cfg_map=8`."
      ]
    },
    {
      "cell_type": "code",
      "metadata": {
        "id": "97U6mcsuoCiI"
      },
      "source": [
        "snap = 10\r\n",
        "gamma = 10\r\n",
        "kimg = 5000\r\n",
        "mini_batch = 32"
      ],
      "execution_count": null,
      "outputs": []
    },
    {
      "cell_type": "code",
      "metadata": {
        "id": "f8TWmeqExkda"
      },
      "source": [
        "!python stylegan2-ada-pytorch/train.py \\\n",
        " --outdir={output_folder} \\\n",
        " --snap={snap} \\\n",
        " --metrics=none \\\n",
        " --data={custom_dataset} \\\n",
        " --cfg=auto_norp \\\n",
        " --cifar_tune=1 \\\n",
        " --gamma={gamma} \\\n",
        " --kimg={kimg} \\\n",
        " --batch={mini_batch} \\\n",
        " --cfg_map=8 \\\n",
        " --augpipe=bg \\\n",
        " --freezed=10 \\\n",
        " --resume=ffhq256\n"
      ],
      "execution_count": null,
      "outputs": []
    },
    {
      "cell_type": "markdown",
      "metadata": {
        "id": "2FGozskE2gGM"
      },
      "source": [
        "### Following runs (resume from the latest snapshot)\r\n",
        "\r\n",
        "Then,  **automatically** resume from the latest pickle snapshot."
      ]
    },
    {
      "cell_type": "code",
      "metadata": {
        "id": "2iWMuRkNrPGQ"
      },
      "source": [
        "!python stylegan2-ada-pytorch/train.py \\\n",
        " --outdir={output_folder} \\\n",
        " --snap={snap} \\\n",
        " --metrics=none \\\n",
        " --data={custom_dataset} \\\n",
        " --cfg=auto_norp \\\n",
        " --cifar_tune=1 \\\n",
        " --gamma={gamma} \\\n",
        " --kimg={kimg} \\\n",
        " --batch={mini_batch} \\\n",
        " --cfg_map=8 \\\n",
        " --augpipe=bg \\\n",
        " --freezed=10 \\\n",
        " --resume=latest\n"
      ],
      "execution_count": null,
      "outputs": []
    }
  ]
}